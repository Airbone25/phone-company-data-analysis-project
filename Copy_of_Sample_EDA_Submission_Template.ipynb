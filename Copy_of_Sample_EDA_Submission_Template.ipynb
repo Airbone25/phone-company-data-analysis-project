{
  "nbformat": 4,
  "nbformat_minor": 0,
  "metadata": {
    "colab": {
      "private_outputs": true,
      "provenance": [],
      "collapsed_sections": [
        "vncDsAP0Gaoa",
        "FJNUwmbgGyua",
        "w6K7xa23Elo4",
        "yQaldy8SH6Dl",
        "85gYPyotYoAp",
        "RoGjAbkUYoAp",
        "iky9q4vBYrdO",
        "F6T5p64dYrdO",
        "y-Ehk30pYrdP",
        "QHF8YVU7Yuh3",
        "GwzvFGzlYuh3",
        "qYpmQ266Yuh3",
        "bbFf2-_FphqN",
        "_ouA3fa0phqN",
        "Seke61FWphqN",
        "t27r6nlMphqO",
        "r2jJGEOYphqO",
        "b0JNsNcRphqO",
        "jj7wYXLtphqO",
        "eZrbJ2SmphqO",
        "rFu4xreNphqO",
        "gCFgpxoyphqP",
        "OVtJsKN_phqQ",
        "lssrdh5qphqQ",
        "1M8mcRywphqQ",
        "tgIPom80phqQ",
        "JMzcOPDDphqR",
        "x-EpHcCOp1ci",
        "X_VqEhTip1ck",
        "8zGJKyg5p1ck",
        "PVzmfK_Ep1ck",
        "n3dbpmDWp1ck",
        "ylSl6qgtp1ck",
        "ZWILFDl5p1ck",
        "M7G43BXep1ck",
        "Ag9LCva-p1cl",
        "E6MkPsBcp1cl",
        "2cELzS2fp1cl",
        "3MPXvC8up1cl",
        "NC_X3p0fY2L0",
        "UV0SzAkaZNRQ",
        "YPEH6qLeZNRQ",
        "q29F0dvdveiT",
        "EXh0U9oCveiU",
        "22aHeOlLveiV",
        "JcMwzZxoAimU",
        "8G2x9gOozGDZ",
        "gCX9965dhzqZ",
        "gIfDvo9L0UH2"
      ],
      "include_colab_link": true
    },
    "kernelspec": {
      "name": "python3",
      "display_name": "Python 3"
    },
    "language_info": {
      "name": "python"
    }
  },
  "cells": [
    {
      "cell_type": "markdown",
      "metadata": {
        "id": "view-in-github",
        "colab_type": "text"
      },
      "source": [
        "<a href=\"https://colab.research.google.com/github/Airbone25/phone-company-data-analysis-project/blob/main/Copy_of_Sample_EDA_Submission_Template.ipynb\" target=\"_parent\"><img src=\"https://colab.research.google.com/assets/colab-badge.svg\" alt=\"Open In Colab\"/></a>"
      ]
    },
    {
      "cell_type": "markdown",
      "source": [
        "# **Project Name**    - Mobile Phones Usage Pattern Analysis Across Time: Monthly, Weekly, and Quarterly Trends\n",
        "\n"
      ],
      "metadata": {
        "id": "vncDsAP0Gaoa"
      }
    },
    {
      "cell_type": "markdown",
      "source": [
        "##### **Project Type**    - EDA\n",
        "##### **Contribution**    - Individual\n",
        "##### **Team Member 1 -** Keshav Mehra\n",
        "##### **Team Member 2 -**\n",
        "##### **Team Member 3 -**\n",
        "##### **Team Member 4 -**"
      ],
      "metadata": {
        "id": "beRrZCGUAJYm"
      }
    },
    {
      "cell_type": "markdown",
      "source": [
        "# **Project Summary -**"
      ],
      "metadata": {
        "id": "FJNUwmbgGyua"
      }
    },
    {
      "cell_type": "markdown",
      "source": [
        "This analysis investigates telecom service usage patterns by examining call durations, SMS counts, and data consumption across various timeframes—monthly, weekly, and quarterly—using detailed time-series data. The dataset includes records of telecom activities with timestamps, network identifiers, and usage metrics, which were enhanced with time-based features such as month, quarter, week of the year, day of the week, and hour of the day. This comprehensive exploration provides valuable insights into customer behavior and network utilization, enabling telecom providers to optimize their operations and marketing strategies.\n",
        "\n",
        "By aggregating the data by month and year, the analysis reveals clear seasonal trends in how customers use telecom services. For example, call durations and SMS counts fluctuate throughout the year, with identifiable peaks in certain months that might correspond to holidays, festivals, or other special events. Data usage generally shows an increasing trend, reflecting the growing reliance on internet-based services and streaming. Breaking down usage by quarter offers a broader perspective on seasonal shifts and business cycles, helping providers forecast demand more accurately and align their infrastructure investments with expected usage.\n",
        "\n",
        "A finer granularity analysis of usage by week of the year uncovers short-term patterns and anomalies that might be masked in monthly or quarterly aggregates. Weekly trends can expose the effects of marketing campaigns, network outages, or external factors like weather conditions or social events. Telecom companies can leverage this insight to adjust their operational planning dynamically, ensuring adequate capacity during high-demand weeks and performing maintenance during quieter periods.\n",
        "\n",
        "Examining daily and hourly usage patterns by item type (calls, SMS, data) further enriches the understanding of customer behavior. The data shows that call durations and SMS activity peak on certain weekdays, typically during the workweek, while data usage tends to spike during evenings and weekends when users are more likely to stream media or browse online. Hourly usage profiles help identify critical load periods during the day, enabling better network resource allocation and more efficient staffing of customer support services. Additionally, this knowledge supports the design of time-based pricing models or promotions that incentivize usage during off-peak hours, helping to balance network loads.\n",
        "\n",
        "Network and technology preferences were also analyzed by grouping usage data by network providers and network types (such as 2G, 3G, 4G, and 5G). Average call durations across these groups provide a proxy measure for service quality and user satisfaction. Providers with longer average call durations might indicate better coverage or fewer dropped calls, suggesting areas where investment is paying off. Conversely, identifying networks or technologies with lower performance metrics can help prioritize infrastructure upgrades or customer service improvements. Understanding the distribution and number of unique networks in use also aids in strategizing roaming agreements and partnerships, ensuring seamless connectivity for users.\n",
        "\n",
        "The analysis identified several challenges, including periods with zero or very low activity that could reflect data collection gaps, customer churn, or seasonal inactivity. Addressing these requires close collaboration between data teams and operations to ensure high-quality data and targeted interventions. Another limitation is the assumption that call duration directly correlates with customer satisfaction, which might not always hold, especially with increasing use of alternative communication channels like instant messaging and VoIP.\n",
        "\n",
        "Overall, the insights from this multi-dimensional analysis offer actionable intelligence for telecom companies aiming to enhance customer experience and optimize resource utilization. By aligning network capacity planning with detailed usage trends and customer behavior patterns, businesses can reduce costs, prevent network congestion, and boost revenue through targeted marketing. Furthermore, ongoing monitoring using these analytical frameworks enables rapid response to changing customer needs and market conditions, supporting sustained business growth in a highly competitive telecom sector."
      ],
      "metadata": {
        "id": "F6v_1wHtG2nS"
      }
    },
    {
      "cell_type": "markdown",
      "source": [
        "# **GitHub Link -**"
      ],
      "metadata": {
        "id": "w6K7xa23Elo4"
      }
    },
    {
      "cell_type": "markdown",
      "source": [
        "\n",
        "\n",
        "```\n",
        "# This is formatted as code\n",
        "```\n",
        "\n",
        "Provide your GitHub Link here."
      ],
      "metadata": {
        "id": "h1o69JH3Eqqn"
      }
    },
    {
      "cell_type": "markdown",
      "source": [
        "# **Problem Statement**\n"
      ],
      "metadata": {
        "id": "yQaldy8SH6Dl"
      }
    },
    {
      "cell_type": "markdown",
      "source": [
        "Telecom companies face challenges in efficiently managing network resources and delivering quality service due to fluctuating user demand across time. Without a clear understanding of when and how customers use calls, SMS, and data, it is difficult to forecast capacity requirements or design effective promotional campaigns. This analysis aims to uncover temporal usage trends and network preferences from raw telecom data to support data-driven decision-making for network planning, customer engagement, and business growth."
      ],
      "metadata": {
        "id": "DpeJGUA3kjGy"
      }
    },
    {
      "cell_type": "markdown",
      "source": [
        "#### **Define Your Business Objective?**"
      ],
      "metadata": {
        "id": "PH-0ReGfmX4f"
      }
    },
    {
      "cell_type": "markdown",
      "source": [
        "Answer Here."
      ],
      "metadata": {
        "id": "PhDvGCAqmjP1"
      }
    },
    {
      "cell_type": "markdown",
      "source": [
        "# ***Let's Begin !***"
      ],
      "metadata": {
        "id": "O_i_v8NEhb9l"
      }
    },
    {
      "cell_type": "markdown",
      "source": [
        "## ***1. Know Your Data***"
      ],
      "metadata": {
        "id": "HhfV-JJviCcP"
      }
    },
    {
      "cell_type": "markdown",
      "source": [
        "### Import Libraries"
      ],
      "metadata": {
        "id": "Y3lxredqlCYt"
      }
    },
    {
      "cell_type": "code",
      "source": [
        "# Import Libraries\n",
        "import numpy as np\n",
        "import pandas as pd\n",
        "import math\n",
        "import seaborn as sns\n",
        "import matplotlib.pyplot as plt\n",
        "\n",
        "from matplotlib import rcParams\n",
        "\n",
        "import warnings\n",
        "warnings.filterwarnings('ignore')"
      ],
      "metadata": {
        "id": "M8Vqi-pPk-HR"
      },
      "execution_count": null,
      "outputs": []
    },
    {
      "cell_type": "markdown",
      "source": [
        "### Dataset Loading"
      ],
      "metadata": {
        "id": "3RnN4peoiCZX"
      }
    },
    {
      "cell_type": "code",
      "source": [
        "# Load Dataset\n",
        "dataset = pd.read_csv('/content/drive/MyDrive/Colab Notebooks/Dataset/phone_data.csv')"
      ],
      "metadata": {
        "id": "4CkvbW_SlZ_R"
      },
      "execution_count": null,
      "outputs": []
    },
    {
      "cell_type": "markdown",
      "source": [
        "### Dataset First View"
      ],
      "metadata": {
        "id": "x71ZqKXriCWQ"
      }
    },
    {
      "cell_type": "code",
      "source": [
        "# Dataset First Look\n",
        "dataset.head()"
      ],
      "metadata": {
        "id": "LWNFOSvLl09H"
      },
      "execution_count": null,
      "outputs": []
    },
    {
      "cell_type": "markdown",
      "source": [
        "### Dataset Rows & Columns count"
      ],
      "metadata": {
        "id": "7hBIi_osiCS2"
      }
    },
    {
      "cell_type": "code",
      "source": [
        "# Dataset Rows & Columns count\n",
        "dataset.shape"
      ],
      "metadata": {
        "id": "Kllu7SJgmLij"
      },
      "execution_count": null,
      "outputs": []
    },
    {
      "cell_type": "markdown",
      "source": [
        "### Dataset Information"
      ],
      "metadata": {
        "id": "JlHwYmJAmNHm"
      }
    },
    {
      "cell_type": "code",
      "source": [
        "# Dataset Info\n",
        "dataset.info()"
      ],
      "metadata": {
        "id": "e9hRXRi6meOf"
      },
      "execution_count": null,
      "outputs": []
    },
    {
      "cell_type": "markdown",
      "source": [
        "#### Duplicate Values"
      ],
      "metadata": {
        "id": "35m5QtbWiB9F"
      }
    },
    {
      "cell_type": "code",
      "source": [
        "# Dataset Duplicate Value Count\n",
        "len(dataset[dataset.duplicated()])"
      ],
      "metadata": {
        "id": "1sLdpKYkmox0"
      },
      "execution_count": null,
      "outputs": []
    },
    {
      "cell_type": "markdown",
      "source": [
        "#### Missing Values/Null Values"
      ],
      "metadata": {
        "id": "PoPl-ycgm1ru"
      }
    },
    {
      "cell_type": "code",
      "source": [
        "# Missing Values/Null Values Count\n",
        "print(dataset.isnull().sum())"
      ],
      "metadata": {
        "id": "GgHWkxvamxVg"
      },
      "execution_count": null,
      "outputs": []
    },
    {
      "cell_type": "code",
      "source": [
        "# Visualizing the missing values\n",
        "# checking null value using heatmap\n",
        "sns.heatmap(dataset.isnull(), cbar=False)"
      ],
      "metadata": {
        "id": "3q5wnI3om9sJ"
      },
      "execution_count": null,
      "outputs": []
    },
    {
      "cell_type": "markdown",
      "source": [
        "### What did you know about your dataset?"
      ],
      "metadata": {
        "id": "H0kj-8xxnORC"
      }
    },
    {
      "cell_type": "markdown",
      "source": [
        "Answer Here"
      ],
      "metadata": {
        "id": "gfoNAAC-nUe_"
      }
    },
    {
      "cell_type": "markdown",
      "source": [
        "## ***2. Understanding Your Variables***"
      ],
      "metadata": {
        "id": "nA9Y7ga8ng1Z"
      }
    },
    {
      "cell_type": "code",
      "source": [
        "# Dataset Columns\n",
        "dataset.columns"
      ],
      "metadata": {
        "id": "j7xfkqrt5Ag5"
      },
      "execution_count": null,
      "outputs": []
    },
    {
      "cell_type": "code",
      "source": [
        "# Dataset Describe\n",
        "dataset.describe()"
      ],
      "metadata": {
        "id": "DnOaZdaE5Q5t"
      },
      "execution_count": null,
      "outputs": []
    },
    {
      "cell_type": "markdown",
      "source": [
        "### Variables Description"
      ],
      "metadata": {
        "id": "PBTbrJXOngz2"
      }
    },
    {
      "cell_type": "markdown",
      "source": [
        "Answer Here"
      ],
      "metadata": {
        "id": "aJV4KIxSnxay"
      }
    },
    {
      "cell_type": "markdown",
      "source": [
        "### Check Unique Values for each variable."
      ],
      "metadata": {
        "id": "u3PMJOP6ngxN"
      }
    },
    {
      "cell_type": "code",
      "source": [
        "# Check Unique Values for each variable.\n",
        "for i in dataset.columns.tolist():\n",
        "  print(\"No. of unique values in \",i,\"is\",dataset[i].nunique(),\".\")"
      ],
      "metadata": {
        "id": "zms12Yq5n-jE"
      },
      "execution_count": null,
      "outputs": []
    },
    {
      "cell_type": "markdown",
      "source": [
        "## 3. ***Data Wrangling***"
      ],
      "metadata": {
        "id": "dauF4eBmngu3"
      }
    },
    {
      "cell_type": "markdown",
      "source": [
        "### Data Wrangling Code"
      ],
      "metadata": {
        "id": "bKJF3rekwFvQ"
      }
    },
    {
      "cell_type": "code",
      "source": [
        "# Write your code to make your dataset analysis ready.\n",
        "\n",
        "dataset['date'] = pd.to_datetime(dataset['date'])\n",
        "\n",
        "\n",
        "dataset['day_of_week'] = dataset['date'].dt.dayofweek\n",
        "dataset['day_of_month'] = dataset['date'].dt.day\n",
        "dataset['hour'] = dataset['date'].dt.hour\n",
        "\n",
        "dataset.loc[dataset['item'] == 'call', 'duration'] = dataset.loc[dataset['item'] == 'call', 'duration'].apply(lambda x: x/60)\n",
        "\n",
        "display(dataset.head())"
      ],
      "metadata": {
        "id": "wk-9a2fpoLcV"
      },
      "execution_count": null,
      "outputs": []
    },
    {
      "cell_type": "code",
      "source": [
        "\n",
        "# Create a new column 'month' from the 'date' column\n",
        "dataset['month'] = dataset['date'].dt.month\n",
        "\n",
        "# Create a new column 'year' from the 'date' column\n",
        "dataset['year'] = dataset['date'].dt.year\n",
        "\n",
        "# Create a new column 'day_name' from the 'date' column\n",
        "dataset['day_name'] = dataset['date'].dt.day_name()\n",
        "\n",
        "# Create a new column 'month_name' from the 'date' column\n",
        "dataset['month_name'] = dataset['date'].dt.month_name()\n",
        "\n",
        "# Create a new column 'quarter' from the 'date' column\n",
        "dataset['quarter'] = dataset['date'].dt.quarter\n",
        "\n",
        "# Convert the 'network' column to categorical\n",
        "dataset['network'] = dataset['network'].astype('category')\n",
        "\n",
        "# Convert the 'network_type' column to categorical\n",
        "dataset['network_type'] = dataset['network_type'].astype('category')\n",
        "\n",
        "# Convert the 'item' column to categorical\n",
        "dataset['item'] = dataset['item'].astype('category')\n",
        "\n",
        "# Display the first few rows with the new columns\n",
        "display(dataset.head())"
      ],
      "metadata": {
        "id": "bN8y3M2qenUN"
      },
      "execution_count": null,
      "outputs": []
    },
    {
      "cell_type": "code",
      "source": [
        "\n",
        "# Group by 'month' and calculate the sum of 'duration' for calls\n",
        "monthly_call_duration = dataset[dataset['item'] == 'call'].groupby('month')['duration'].sum().reset_index()\n",
        "monthly_call_duration.rename(columns={'duration': 'total_call_duration_minutes'}, inplace=True)\n",
        "display(monthly_call_duration.head())\n",
        "\n",
        "# Group by 'month' and count the number of sms\n",
        "monthly_sms_count = dataset[dataset['item'] == 'sms'].groupby('month')['item'].count().reset_index()\n",
        "monthly_sms_count.rename(columns={'item': 'total_sms_count'}, inplace=True)\n",
        "display(monthly_sms_count.head())\n",
        "\n",
        "# Group by 'month' and sum the 'duration' for data usage\n",
        "monthly_data_usage = dataset[dataset['item'] == 'data'].groupby('month')['duration'].sum().reset_index()\n",
        "monthly_data_usage.rename(columns={'duration': 'total_data_usage_mb'}, inplace=True)\n",
        "display(monthly_data_usage.head())\n",
        "\n",
        "# Merge the monthly summary tables\n",
        "monthly_summary = monthly_call_duration.merge(monthly_sms_count, on='month', how='left').merge(monthly_data_usage, on='month', how='left')\n",
        "# Fill NaN values that occurred due to the merge (e.g., months with no data/sms) with 0\n",
        "monthly_summary.fillna(0, inplace=True)\n",
        "display(monthly_summary)\n",
        "\n",
        "# Group by 'network' and count the number of calls\n",
        "calls_by_network = dataset[dataset['item'] == 'call'].groupby('network')['item'].count().reset_index()\n",
        "calls_by_network.rename(columns={'item': 'total_calls'}, inplace=True)\n",
        "display(calls_by_network.head())\n",
        "\n",
        "# Group by 'network_type' and count the number of calls\n",
        "calls_by_network_type = dataset[dataset['item'] == 'call'].groupby('network_type')['item'].count().reset_index()\n",
        "calls_by_network_type.rename(columns={'item': 'total_calls'}, inplace=True)\n",
        "display(calls_by_network_type.head())\n",
        "\n",
        "# Group by 'day_of_week' and sum the duration for calls\n",
        "daily_call_duration = dataset[dataset['item'] == 'call'].groupby('day_of_week')['duration'].sum().reset_index()\n",
        "daily_call_duration.rename(columns={'duration': 'total_call_duration_minutes'}, inplace=True)\n",
        "# Map day of week integer to name for better readability\n",
        "day_map = {0: 'Monday', 1: 'Tuesday', 2: 'Wednesday', 3: 'Thursday', 4: 'Friday', 5: 'Saturday', 6: 'Sunday'}\n",
        "daily_call_duration['day_name'] = daily_call_duration['day_of_week'].map(day_map)\n",
        "display(daily_call_duration)\n",
        "\n",
        "# Group by 'hour' and count the number of calls\n",
        "hourly_call_count = dataset[dataset['item'] == 'call'].groupby('hour')['item'].count().reset_index()\n",
        "hourly_call_count.rename(columns={'item': 'total_calls'}, inplace=True)\n",
        "display(hourly_call_count.head())\n",
        "\n",
        "# Calculate the average call duration\n",
        "average_call_duration = dataset[dataset['item'] == 'call']['duration'].mean()\n",
        "print(f\"Average Call Duration: {average_call_duration:.2f} minutes\")\n",
        "\n",
        "# Calculate the total number of SMS\n",
        "total_sms = dataset[dataset['item'] == 'sms'].shape[0]\n",
        "print(f\"Total SMS: {total_sms}\")\n",
        "\n",
        "# Calculate the total data usage\n",
        "total_data = dataset[dataset['item'] == 'data']['duration'].sum()\n",
        "print(f\"Total Data Usage: {total_data:.2f} MB\")"
      ],
      "metadata": {
        "id": "N_3WXy6nf3F3"
      },
      "execution_count": null,
      "outputs": []
    },
    {
      "cell_type": "code",
      "source": [
        "\n",
        "# Further Data Wrangling: Exploring usage patterns over time and by item type\n",
        "\n",
        "# Group by year and month and count the number of calls, sms, and data usage\n",
        "monthly_usage_trend = dataset.groupby(['year', 'month', 'item'])['duration'].agg(['count', 'sum']).reset_index()\n",
        "monthly_usage_trend.rename(columns={'count': 'count_of_item', 'sum': 'total_duration_or_usage'}, inplace=True)\n",
        "display(monthly_usage_trend.head())\n",
        "\n",
        "# Pivot the table to have items as columns for easier comparison across months\n",
        "monthly_usage_pivot = monthly_usage_trend.pivot_table(index=['year', 'month'], columns='item', values=['count_of_item', 'total_duration_or_usage']).reset_index()\n",
        "display(monthly_usage_pivot.head())\n",
        "\n",
        "# Flatten the multi-level column index\n",
        "monthly_usage_pivot.columns = ['_'.join(map(str, col)).strip() for col in monthly_usage_pivot.columns.values]\n",
        "monthly_usage_pivot.rename(columns={'year_': 'year', 'month_': 'month'}, inplace=True)\n",
        "display(monthly_usage_pivot.head())\n",
        "\n",
        "# Fill NaN values with 0 where items might not be present in certain months\n",
        "monthly_usage_pivot.fillna(0, inplace=True)\n",
        "display(monthly_usage_pivot.head())\n",
        "\n",
        "# Calculate total activity per month\n",
        "monthly_usage_pivot['total_activity_count'] = monthly_usage_pivot['count_of_item_call'] + monthly_usage_pivot['count_of_item_data'] + monthly_usage_pivot['count_of_item_sms']\n",
        "display(monthly_usage_pivot.head())\n",
        "\n",
        "# Group by day of the week and item type to see daily patterns\n",
        "daily_item_usage = dataset.groupby(['day_of_week', 'item'])['duration'].agg(['count', 'sum']).reset_index()\n",
        "daily_item_usage.rename(columns={'count': 'count_of_item', 'sum': 'total_duration_or_usage'}, inplace=True)\n",
        "daily_item_usage['day_name'] = daily_item_usage['day_of_week'].map(day_map) # Using the day_map defined earlier\n",
        "display(daily_item_usage)\n",
        "\n",
        "# Pivot the daily usage data\n",
        "daily_item_usage_pivot = daily_item_usage.pivot_table(index=['day_of_week', 'day_name'], columns='item', values=['count_of_item', 'total_duration_or_usage']).reset_index()\n",
        "daily_item_usage_pivot.columns = ['_'.join(map(str, col)).strip() for col in daily_item_usage_pivot.columns.values]\n",
        "daily_item_usage_pivot.rename(columns={'day_of_week_': 'day_of_week', 'day_name_': 'day_name'}, inplace=True)\n",
        "daily_item_usage_pivot.fillna(0, inplace=True)\n",
        "display(daily_item_usage_pivot)\n",
        "\n",
        "# Group by hour and item type to see hourly patterns\n",
        "hourly_item_usage = dataset.groupby(['hour', 'item'])['duration'].agg(['count', 'sum']).reset_index()\n",
        "hourly_item_usage.rename(columns={'count': 'count_of_item', 'sum': 'total_duration_or_usage'}, inplace=True)\n",
        "display(hourly_item_usage.head())\n",
        "\n",
        "# Pivot the hourly usage data\n",
        "hourly_item_usage_pivot = hourly_item_usage.pivot_table(index='hour', columns='item', values=['count_of_item', 'total_duration_or_usage']).reset_index()\n",
        "hourly_item_usage_pivot.columns = ['_'.join(map(str, col)).strip() for col in hourly_item_usage_pivot.columns.values]\n",
        "hourly_item_usage_pivot.rename(columns={'hour_': 'hour'}, inplace=True)\n",
        "hourly_item_usage_pivot.fillna(0, inplace=True)\n",
        "display(hourly_item_usage_pivot.head())\n",
        "\n",
        "# Calculate the average call duration by network type\n",
        "average_call_duration_by_network_type = dataset[dataset['item'] == 'call'].groupby('network_type')['duration'].mean().reset_index()\n",
        "average_call_duration_by_network_type.rename(columns={'duration': 'average_call_duration_minutes'}, inplace=True)\n",
        "display(average_call_duration_by_network_type)\n",
        "\n",
        "# Calculate the average call duration by network\n",
        "average_call_duration_by_network = dataset[dataset['item'] == 'call'].groupby('network')['duration'].mean().reset_index()\n",
        "average_call_duration_by_network.rename(columns={'duration': 'average_call_duration_minutes'}, inplace=True)\n",
        "display(average_call_duration_by_network)\n",
        "\n",
        "# Calculate the number of unique networks used\n",
        "unique_networks_count = dataset['network'].nunique()\n",
        "print(f\"Number of unique networks used: {unique_networks_count}\")\n",
        "\n",
        "# Calculate the number of unique network types used\n",
        "unique_network_types_count = dataset['network_type'].nunique()\n",
        "print(f\"Number of unique network types used: {unique_network_types_count}\")\n",
        "\n",
        "# Create a summary table for the dataset\n",
        "dataset_summary = pd.DataFrame({\n",
        "    'Column': dataset.columns,\n",
        "    'DataType': dataset.dtypes,\n",
        "    'Non-Null Count': dataset.count(),\n",
        "    'Unique Count': dataset.nunique()\n",
        "})\n",
        "display(dataset_summary)"
      ],
      "metadata": {
        "id": "YnemyV2zhmL8"
      },
      "execution_count": null,
      "outputs": []
    },
    {
      "cell_type": "code",
      "source": [
        "\n",
        "\n",
        "# Identify top used networks and network types\n",
        "top_networks = dataset['network'].value_counts().reset_index()\n",
        "top_networks.columns = ['network', 'count']\n",
        "display(top_networks.head())\n",
        "\n",
        "top_network_types = dataset['network_type'].value_counts().reset_index()\n",
        "top_network_types.columns = ['network_type', 'count']\n",
        "display(top_network_types.head())"
      ],
      "metadata": {
        "id": "5-dmeF6ei8oX"
      },
      "execution_count": null,
      "outputs": []
    },
    {
      "cell_type": "code",
      "source": [],
      "metadata": {
        "id": "U2kojsxwj0rn"
      },
      "execution_count": null,
      "outputs": []
    },
    {
      "cell_type": "markdown",
      "source": [
        "### What all manipulations have you done and insights you found?"
      ],
      "metadata": {
        "id": "MSa1f5Uengrz"
      }
    },
    {
      "cell_type": "markdown",
      "source": [
        "Answer Here."
      ],
      "metadata": {
        "id": "LbyXE7I1olp8"
      }
    },
    {
      "cell_type": "markdown",
      "source": [
        "## ***4. Data Vizualization, Storytelling & Experimenting with charts : Understand the relationships between variables***"
      ],
      "metadata": {
        "id": "GF8Ens_Soomf"
      }
    },
    {
      "cell_type": "markdown",
      "source": [
        "#### Chart - 1"
      ],
      "metadata": {
        "id": "0wOQAZs5pc--"
      }
    },
    {
      "cell_type": "code",
      "source": [
        "# Chart - 1 visualization code\n",
        "# Set style\n",
        "sns.set(style=\"whitegrid\")\n",
        "\n",
        "# Filter only call records\n",
        "calls = dataset[dataset['item'] == 'call']\n",
        "\n",
        "# Plot average call duration by hour of the day\n",
        "plt.figure(figsize=(12, 6))\n",
        "sns.lineplot(data=calls, x='hour', y='duration', estimator='mean', ci=None, marker='o', color='royalblue')\n",
        "plt.title(' Average Call Duration by Hour of Day', fontsize=16)\n",
        "plt.xlabel('Hour of Day (0–23)')\n",
        "plt.ylabel('Average Duration (minutes)')\n",
        "plt.xticks(range(0, 24))\n",
        "plt.grid(True)\n",
        "plt.show()"
      ],
      "metadata": {
        "id": "7v_ESjsspbW7"
      },
      "execution_count": null,
      "outputs": []
    },
    {
      "cell_type": "markdown",
      "source": [
        "##### 1. Why did you pick the specific chart?"
      ],
      "metadata": {
        "id": "K5QZ13OEpz2H"
      }
    },
    {
      "cell_type": "markdown",
      "source": [],
      "metadata": {
        "id": "XESiWehPqBRc"
      }
    },
    {
      "cell_type": "markdown",
      "source": [
        "##### 2. What is/are the insight(s) found from the chart?"
      ],
      "metadata": {
        "id": "lQ7QKXXCp7Bj"
      }
    },
    {
      "cell_type": "markdown",
      "source": [
        "Call durations are higher during weekdays, particularly around working hours (10 AM to 4 PM), suggesting business-related usageAnswer Here.Answer Here"
      ],
      "metadata": {
        "id": "C_j1G7yiqdRP"
      }
    },
    {
      "cell_type": "markdown",
      "source": [
        "##### 3. Will the gained insights help creating a positive business impact?\n",
        "Are there any insights that lead to negative growth? Justify with specific reason."
      ],
      "metadata": {
        "id": "448CDAPjqfQr"
      }
    },
    {
      "cell_type": "markdown",
      "source": [
        "Answer Here"
      ],
      "metadata": {
        "id": "3cspy4FjqxJW"
      }
    },
    {
      "cell_type": "markdown",
      "source": [
        "#### Chart - 2"
      ],
      "metadata": {
        "id": "KSlN3yHqYklG"
      }
    },
    {
      "cell_type": "code",
      "source": [
        "# Chart - 2 visualization code\n",
        "plt.figure(figsize=(10,6))\n",
        "sns.countplot(data=dataset, x='day_name', hue='item', order=['Monday', 'Tuesday', 'Wednesday', 'Thursday', 'Friday', 'Saturday', 'Sunday'])\n",
        "plt.title('Telecom Item Usage by Day of Week')\n",
        "plt.xlabel('Day of Week')\n",
        "plt.ylabel('Count')\n",
        "plt.legend(title='Item')\n",
        "plt.xticks(rotation=45)\n",
        "plt.tight_layout()\n",
        "plt.show()"
      ],
      "metadata": {
        "id": "R4YgtaqtYklH"
      },
      "execution_count": null,
      "outputs": []
    },
    {
      "cell_type": "markdown",
      "source": [
        "##### 1. Why did you pick the specific chart?"
      ],
      "metadata": {
        "id": "t6dVpIINYklI"
      }
    },
    {
      "cell_type": "markdown",
      "source": [
        "The monthly summary chart showing call duration, SMS count, and data usage is essential because it helps reveal how telecom usage changes throughout the year. This allows businesses to spot peak demand months, plan network capacity accordingly, and time their marketing campaigns for maximum impact. If a company ignores these trends, they risk overloading their network during busy times or missing out on revenue opportunities by not running promotions when customers are most active."
      ],
      "metadata": {
        "id": "5aaW0BYyYklI"
      }
    },
    {
      "cell_type": "markdown",
      "source": [
        "##### 2. What is/are the insight(s) found from the chart?"
      ],
      "metadata": {
        "id": "ijmpgYnKYklI"
      }
    },
    {
      "cell_type": "markdown",
      "source": [
        "Most telecom activity occurs on weekdays, with \"calls\" being the most frequent item used, especially on Mondays. Data usage peaks around the end of each quarter, indicating possible bill cycle usage spikes or promotional periods."
      ],
      "metadata": {
        "id": "PSx9atu2YklI"
      }
    },
    {
      "cell_type": "markdown",
      "source": [
        "##### 3. Will the gained insights help creating a positive business impact?\n",
        "Are there any insights that lead to negative growth? Justify with specific reason."
      ],
      "metadata": {
        "id": "-JiQyfWJYklI"
      }
    },
    {
      "cell_type": "markdown",
      "source": [
        "The daily call duration by weekday chart captures customer behavior patterns across the week. Understanding which days see more or longer calls allows companies to optimize customer support and schedule maintenance during quieter periods to reduce disruptions. Missing this insight might mean poor service during busy days or ineffective marketing that doesn’t reach customers when they are most engaged"
      ],
      "metadata": {
        "id": "BcBbebzrYklV"
      }
    },
    {
      "cell_type": "markdown",
      "source": [
        "#### Chart - 3"
      ],
      "metadata": {
        "id": "EM7whBJCYoAo"
      }
    },
    {
      "cell_type": "code",
      "source": [
        "# Chart - 3 visualization code\n",
        "plt.figure(figsize=(12,6))\n",
        "sns.lineplot(data=monthly_summary, x='month', y='total_call_duration_minutes', label='Call Duration (min)')\n",
        "sns.lineplot(data=monthly_summary, x='month', y='total_sms_count', label='SMS Count')\n",
        "sns.lineplot(data=monthly_summary, x='month', y='total_data_usage_mb', label='Data Usage (MB)')\n",
        "plt.title('Monthly Telecom Usage Summary')\n",
        "plt.xlabel('Month')\n",
        "plt.ylabel('Usage')\n",
        "plt.legend()\n",
        "plt.grid(True)\n",
        "plt.tight_layout()\n",
        "plt.show()"
      ],
      "metadata": {
        "id": "t6GMdE67YoAp"
      },
      "execution_count": null,
      "outputs": []
    },
    {
      "cell_type": "markdown",
      "source": [
        "##### 1. Why did you pick the specific chart?"
      ],
      "metadata": {
        "id": "fge-S5ZAYoAp"
      }
    },
    {
      "cell_type": "markdown",
      "source": [
        "The monthly summary chart showing call duration, SMS count, and data usage is essential because it helps reveal how telecom usage changes throughout the year. This allows businesses to spot peak demand months, plan network capacity accordingly, and time their marketing campaigns for maximum impact. If a company ignores these trends, they risk overloading their network during busy times or missing out on revenue opportunities by not running promotions when customers are most active."
      ],
      "metadata": {
        "id": "5dBItgRVYoAp"
      }
    },
    {
      "cell_type": "markdown",
      "source": [
        "##### 2. What is/are the insight(s) found from the chart?"
      ],
      "metadata": {
        "id": "85gYPyotYoAp"
      }
    },
    {
      "cell_type": "markdown",
      "source": [
        "Answer Here"
      ],
      "metadata": {
        "id": "4jstXR6OYoAp"
      }
    },
    {
      "cell_type": "markdown",
      "source": [
        "##### 3. Will the gained insights help creating a positive business impact?\n",
        "Are there any insights that lead to negative growth? Justify with specific reason."
      ],
      "metadata": {
        "id": "RoGjAbkUYoAp"
      }
    },
    {
      "cell_type": "markdown",
      "source": [
        "Answer Here"
      ],
      "metadata": {
        "id": "zfJ8IqMcYoAp"
      }
    },
    {
      "cell_type": "markdown",
      "source": [
        "#### Chart - 4"
      ],
      "metadata": {
        "id": "4Of9eVA-YrdM"
      }
    },
    {
      "cell_type": "code",
      "source": [
        "# Chart - 4 visualization code\n",
        "plt.figure(figsize=(14,7))\n",
        "months = monthly_usage_pivot['month'].astype(int)\n",
        "sns.lineplot(x=months, y=monthly_usage_pivot['count_of_item_call'], label='Call Count')\n",
        "sns.lineplot(x=months, y=monthly_usage_pivot['count_of_item_sms'], label='SMS Count')\n",
        "sns.lineplot(x=months, y=monthly_usage_pivot['count_of_item_data'], label='Data Count')\n",
        "plt.title('Monthly Counts of Calls, SMS, and Data')\n",
        "plt.xlabel('Month')\n",
        "plt.ylabel('Count')\n",
        "plt.xticks(months)\n",
        "plt.legend()\n",
        "plt.grid(True)\n",
        "plt.show()\n",
        "\n",
        "plt.figure(figsize=(14,7))\n",
        "sns.lineplot(x=months, y=monthly_usage_pivot['total_duration_or_usage_call'], label='Call Duration (min)')\n",
        "sns.lineplot(x=months, y=monthly_usage_pivot['total_duration_or_usage_sms'], label='SMS Duration (min)')  # Usually SMS duration may be small/NA\n",
        "sns.lineplot(x=months, y=monthly_usage_pivot['total_duration_or_usage_data'], label='Data Usage (MB)')\n",
        "plt.title('Monthly Duration/Usage of Calls, SMS, and Data')\n",
        "plt.xlabel('Month')\n",
        "plt.ylabel('Duration / Usage')\n",
        "plt.xticks(months)\n",
        "plt.legend()\n",
        "plt.grid(True)\n",
        "plt.show()"
      ],
      "metadata": {
        "id": "irlUoxc8YrdO"
      },
      "execution_count": null,
      "outputs": []
    },
    {
      "cell_type": "markdown",
      "source": [
        "##### 1. Why did you pick the specific chart?"
      ],
      "metadata": {
        "id": "iky9q4vBYrdO"
      }
    },
    {
      "cell_type": "markdown",
      "source": [
        "Answer Here."
      ],
      "metadata": {
        "id": "aJRCwT6DYrdO"
      }
    },
    {
      "cell_type": "markdown",
      "source": [
        "##### 2. What is/are the insight(s) found from the chart?"
      ],
      "metadata": {
        "id": "F6T5p64dYrdO"
      }
    },
    {
      "cell_type": "markdown",
      "source": [
        "Answer Here"
      ],
      "metadata": {
        "id": "Xx8WAJvtYrdO"
      }
    },
    {
      "cell_type": "markdown",
      "source": [
        "##### 3. Will the gained insights help creating a positive business impact?\n",
        "Are there any insights that lead to negative growth? Justify with specific reason."
      ],
      "metadata": {
        "id": "y-Ehk30pYrdP"
      }
    },
    {
      "cell_type": "markdown",
      "source": [
        "Answer Here"
      ],
      "metadata": {
        "id": "jLNxxz7MYrdP"
      }
    },
    {
      "cell_type": "markdown",
      "source": [
        "#### Chart - 5"
      ],
      "metadata": {
        "id": "bamQiAODYuh1"
      }
    },
    {
      "cell_type": "code",
      "source": [
        "# Chart - 5 visualization code\n",
        "plt.figure(figsize=(12,6))\n",
        "daily_counts = daily_item_usage_pivot[['day_name', 'count_of_item_call', 'count_of_item_sms', 'count_of_item_data']].set_index('day_name')\n",
        "sns.heatmap(daily_counts, annot=True, fmt='g', cmap='YlGnBu')\n",
        "plt.title('Daily Usage Counts by Item')\n",
        "plt.ylabel('Day of Week')\n",
        "plt.show()"
      ],
      "metadata": {
        "id": "TIJwrbroYuh3"
      },
      "execution_count": null,
      "outputs": []
    },
    {
      "cell_type": "markdown",
      "source": [
        "##### 1. Why did you pick the specific chart?"
      ],
      "metadata": {
        "id": "QHF8YVU7Yuh3"
      }
    },
    {
      "cell_type": "markdown",
      "source": [
        "Answer Here."
      ],
      "metadata": {
        "id": "dcxuIMRPYuh3"
      }
    },
    {
      "cell_type": "markdown",
      "source": [
        "##### 2. What is/are the insight(s) found from the chart?"
      ],
      "metadata": {
        "id": "GwzvFGzlYuh3"
      }
    },
    {
      "cell_type": "markdown",
      "source": [
        "Answer Here"
      ],
      "metadata": {
        "id": "uyqkiB8YYuh3"
      }
    },
    {
      "cell_type": "markdown",
      "source": [
        "##### 3. Will the gained insights help creating a positive business impact?\n",
        "Are there any insights that lead to negative growth? Justify with specific reason."
      ],
      "metadata": {
        "id": "qYpmQ266Yuh3"
      }
    },
    {
      "cell_type": "markdown",
      "source": [
        "Answer Here"
      ],
      "metadata": {
        "id": "_WtzZ_hCYuh4"
      }
    },
    {
      "cell_type": "markdown",
      "source": [
        "#### Chart - 6"
      ],
      "metadata": {
        "id": "OH-pJp9IphqM"
      }
    },
    {
      "cell_type": "code",
      "source": [
        "# Chart - 6 visualization code\n",
        "plt.figure(figsize=(10,6))\n",
        "sns.barplot(data=average_call_duration_by_network.sort_values('average_call_duration_minutes', ascending=False),\n",
        "            x='network', y='average_call_duration_minutes', palette='viridis')\n",
        "plt.title('Average Call Duration by Network')\n",
        "plt.xlabel('Network')\n",
        "plt.ylabel('Average Duration (Minutes)')\n",
        "plt.xticks(rotation=45)\n",
        "plt.show()"
      ],
      "metadata": {
        "id": "kuRf4wtuphqN"
      },
      "execution_count": null,
      "outputs": []
    },
    {
      "cell_type": "markdown",
      "source": [
        "##### 1. Why did you pick the specific chart?"
      ],
      "metadata": {
        "id": "bbFf2-_FphqN"
      }
    },
    {
      "cell_type": "markdown",
      "source": [
        "Answer Here."
      ],
      "metadata": {
        "id": "loh7H2nzphqN"
      }
    },
    {
      "cell_type": "markdown",
      "source": [
        "##### 2. What is/are the insight(s) found from the chart?"
      ],
      "metadata": {
        "id": "_ouA3fa0phqN"
      }
    },
    {
      "cell_type": "markdown",
      "source": [
        "Answer Here"
      ],
      "metadata": {
        "id": "VECbqPI7phqN"
      }
    },
    {
      "cell_type": "markdown",
      "source": [
        "##### 3. Will the gained insights help creating a positive business impact?\n",
        "Are there any insights that lead to negative growth? Justify with specific reason."
      ],
      "metadata": {
        "id": "Seke61FWphqN"
      }
    },
    {
      "cell_type": "markdown",
      "source": [
        "Answer Here"
      ],
      "metadata": {
        "id": "DW4_bGpfphqN"
      }
    },
    {
      "cell_type": "markdown",
      "source": [
        "#### Chart - 7"
      ],
      "metadata": {
        "id": "PIIx-8_IphqN"
      }
    },
    {
      "cell_type": "code",
      "source": [
        "# Chart - 7 visualization code\n",
        "plt.figure(figsize=(10,6))\n",
        "sns.barplot(data=daily_call_duration.sort_values('day_of_week'), x='day_name', y='total_call_duration_minutes', palette='coolwarm')\n",
        "plt.title('Total Call Duration by Day of Week')\n",
        "plt.xlabel('Day')\n",
        "plt.ylabel('Call Duration (Minutes)')\n",
        "plt.tight_layout()\n",
        "plt.show()"
      ],
      "metadata": {
        "id": "lqAIGUfyphqO"
      },
      "execution_count": null,
      "outputs": []
    },
    {
      "cell_type": "markdown",
      "source": [
        "##### 1. Why did you pick the specific chart?"
      ],
      "metadata": {
        "id": "t27r6nlMphqO"
      }
    },
    {
      "cell_type": "markdown",
      "source": [
        "Answer Here."
      ],
      "metadata": {
        "id": "iv6ro40sphqO"
      }
    },
    {
      "cell_type": "markdown",
      "source": [
        "##### 2. What is/are the insight(s) found from the chart?"
      ],
      "metadata": {
        "id": "r2jJGEOYphqO"
      }
    },
    {
      "cell_type": "markdown",
      "source": [
        "Answer Here"
      ],
      "metadata": {
        "id": "Po6ZPi4hphqO"
      }
    },
    {
      "cell_type": "markdown",
      "source": [
        "##### 3. Will the gained insights help creating a positive business impact?\n",
        "Are there any insights that lead to negative growth? Justify with specific reason."
      ],
      "metadata": {
        "id": "b0JNsNcRphqO"
      }
    },
    {
      "cell_type": "markdown",
      "source": [
        "Answer Here"
      ],
      "metadata": {
        "id": "xvSq8iUTphqO"
      }
    },
    {
      "cell_type": "markdown",
      "source": [
        "#### Chart - 8"
      ],
      "metadata": {
        "id": "BZR9WyysphqO"
      }
    },
    {
      "cell_type": "code",
      "source": [
        "# Chart - 8 visualization code\n",
        "# Plot Top Networks\n",
        "plt.figure(figsize=(10,5))\n",
        "sns.barplot(data=top_networks.head(10), x='network', y='count', palette='Blues_d')\n",
        "plt.title('Top 10 Networks by Usage Count')\n",
        "plt.xlabel('Network')\n",
        "plt.ylabel('Usage Count')\n",
        "plt.xticks(rotation=45)\n",
        "plt.tight_layout()\n",
        "plt.show()\n",
        "\n",
        "# Plot Top Network Types\n",
        "plt.figure(figsize=(6,4))\n",
        "sns.barplot(data=top_network_types, x='network_type', y='count', palette='Set2')\n",
        "plt.title('Network Type Usage Count')\n",
        "plt.xlabel('Network Type')\n",
        "plt.ylabel('Usage Count')\n",
        "plt.tight_layout()\n",
        "plt.show()"
      ],
      "metadata": {
        "id": "TdPTWpAVphqO"
      },
      "execution_count": null,
      "outputs": []
    },
    {
      "cell_type": "markdown",
      "source": [
        "##### 1. Why did you pick the specific chart?"
      ],
      "metadata": {
        "id": "jj7wYXLtphqO"
      }
    },
    {
      "cell_type": "markdown",
      "source": [
        "Answer Here."
      ],
      "metadata": {
        "id": "Ob8u6rCTphqO"
      }
    },
    {
      "cell_type": "markdown",
      "source": [
        "##### 2. What is/are the insight(s) found from the chart?"
      ],
      "metadata": {
        "id": "eZrbJ2SmphqO"
      }
    },
    {
      "cell_type": "markdown",
      "source": [
        "Answer Here"
      ],
      "metadata": {
        "id": "mZtgC_hjphqO"
      }
    },
    {
      "cell_type": "markdown",
      "source": [
        "##### 3. Will the gained insights help creating a positive business impact?\n",
        "Are there any insights that lead to negative growth? Justify with specific reason."
      ],
      "metadata": {
        "id": "rFu4xreNphqO"
      }
    },
    {
      "cell_type": "markdown",
      "source": [
        "Answer Here"
      ],
      "metadata": {
        "id": "ey_0qi68phqO"
      }
    },
    {
      "cell_type": "markdown",
      "source": [
        "#### Chart - 9"
      ],
      "metadata": {
        "id": "YJ55k-q6phqO"
      }
    },
    {
      "cell_type": "code",
      "source": [
        "# Chart - 9 visualization code\n",
        "# Aggregate total call duration, SMS count, and data usage by quarter\n",
        "quarterly_usage = dataset.groupby(['year', 'quarter', 'item'])['duration'].agg(['count', 'sum']).reset_index()\n",
        "quarterly_pivot = quarterly_usage.pivot_table(index=['year', 'quarter'], columns='item', values='sum').fillna(0).reset_index()\n",
        "\n",
        "plt.figure(figsize=(10,6))\n",
        "sns.lineplot(data=quarterly_pivot, x='quarter', y='call', marker='o', label='Call Duration (min)')\n",
        "sns.lineplot(data=quarterly_pivot, x='quarter', y='sms', marker='o', label='SMS Count')\n",
        "sns.lineplot(data=quarterly_pivot, x='quarter', y='data', marker='o', label='Data Usage (MB)')\n",
        "plt.title('Quarterly Telecom Usage Trends')\n",
        "plt.xlabel('Quarter')\n",
        "plt.ylabel('Total Usage')\n",
        "plt.legend()\n",
        "plt.grid(True)\n",
        "plt.show()"
      ],
      "metadata": {
        "id": "B2aS4O1ophqO"
      },
      "execution_count": null,
      "outputs": []
    },
    {
      "cell_type": "markdown",
      "source": [
        "##### 1. Why did you pick the specific chart?"
      ],
      "metadata": {
        "id": "gCFgpxoyphqP"
      }
    },
    {
      "cell_type": "markdown",
      "source": [
        "Answer Here."
      ],
      "metadata": {
        "id": "TVxDimi2phqP"
      }
    },
    {
      "cell_type": "markdown",
      "source": [
        "##### 2. What is/are the insight(s) found from the chart?"
      ],
      "metadata": {
        "id": "OVtJsKN_phqQ"
      }
    },
    {
      "cell_type": "markdown",
      "source": [
        "Answer Here"
      ],
      "metadata": {
        "id": "ngGi97qjphqQ"
      }
    },
    {
      "cell_type": "markdown",
      "source": [
        "##### 3. Will the gained insights help creating a positive business impact?\n",
        "Are there any insights that lead to negative growth? Justify with specific reason."
      ],
      "metadata": {
        "id": "lssrdh5qphqQ"
      }
    },
    {
      "cell_type": "markdown",
      "source": [
        "Answer Here"
      ],
      "metadata": {
        "id": "tBpY5ekJphqQ"
      }
    },
    {
      "cell_type": "markdown",
      "source": [
        "#### Chart - 10"
      ],
      "metadata": {
        "id": "U2RJ9gkRphqQ"
      }
    },
    {
      "cell_type": "code",
      "source": [
        "# Chart - 10 visualization code\n",
        "# Aggregate total call duration, SMS count, and data usage by week of year\n",
        "weekly_usage = dataset.groupby(['year', 'week_of_year', 'item'])['duration'].agg(['count', 'sum']).reset_index()\n",
        "weekly_pivot = weekly_usage.pivot_table(index=['year', 'week_of_year'], columns='item', values='sum').fillna(0).reset_index()\n",
        "\n",
        "plt.figure(figsize=(14,7))\n",
        "sns.lineplot(data=weekly_pivot, x='week_of_year', y='call', label='Call Duration (min)')\n",
        "sns.lineplot(data=weekly_pivot, x='week_of_year', y='sms', label='SMS Count')\n",
        "sns.lineplot(data=weekly_pivot, x='week_of_year', y='data', label='Data Usage (MB)')\n",
        "plt.title('Weekly Telecom Usage Trends')\n",
        "plt.xlabel('Week of Year')\n",
        "plt.ylabel('Total Usage')\n",
        "plt.legend()\n",
        "plt.grid(True)\n",
        "plt.show()"
      ],
      "metadata": {
        "id": "GM7a4YP4phqQ"
      },
      "execution_count": null,
      "outputs": []
    },
    {
      "cell_type": "markdown",
      "source": [
        "##### 1. Why did you pick the specific chart?"
      ],
      "metadata": {
        "id": "1M8mcRywphqQ"
      }
    },
    {
      "cell_type": "markdown",
      "source": [
        "Answer Here."
      ],
      "metadata": {
        "id": "8agQvks0phqQ"
      }
    },
    {
      "cell_type": "markdown",
      "source": [
        "##### 2. What is/are the insight(s) found from the chart?"
      ],
      "metadata": {
        "id": "tgIPom80phqQ"
      }
    },
    {
      "cell_type": "markdown",
      "source": [
        "Answer Here"
      ],
      "metadata": {
        "id": "Qp13pnNzphqQ"
      }
    },
    {
      "cell_type": "markdown",
      "source": [
        "##### 3. Will the gained insights help creating a positive business impact?\n",
        "Are there any insights that lead to negative growth? Justify with specific reason."
      ],
      "metadata": {
        "id": "JMzcOPDDphqR"
      }
    },
    {
      "cell_type": "markdown",
      "source": [
        "Answer Here"
      ],
      "metadata": {
        "id": "R4Ka1PC2phqR"
      }
    },
    {
      "cell_type": "markdown",
      "source": [
        "#### Chart - 11"
      ],
      "metadata": {
        "id": "x-EpHcCOp1ci"
      }
    },
    {
      "cell_type": "code",
      "source": [
        "# Chart - 11 visualization code"
      ],
      "metadata": {
        "id": "mAQTIvtqp1cj"
      },
      "execution_count": null,
      "outputs": []
    },
    {
      "cell_type": "markdown",
      "source": [
        "##### 1. Why did you pick the specific chart?"
      ],
      "metadata": {
        "id": "X_VqEhTip1ck"
      }
    },
    {
      "cell_type": "markdown",
      "source": [
        "Answer Here."
      ],
      "metadata": {
        "id": "-vsMzt_np1ck"
      }
    },
    {
      "cell_type": "markdown",
      "source": [
        "##### 2. What is/are the insight(s) found from the chart?"
      ],
      "metadata": {
        "id": "8zGJKyg5p1ck"
      }
    },
    {
      "cell_type": "markdown",
      "source": [
        "Answer Here"
      ],
      "metadata": {
        "id": "ZYdMsrqVp1ck"
      }
    },
    {
      "cell_type": "markdown",
      "source": [
        "##### 3. Will the gained insights help creating a positive business impact?\n",
        "Are there any insights that lead to negative growth? Justify with specific reason."
      ],
      "metadata": {
        "id": "PVzmfK_Ep1ck"
      }
    },
    {
      "cell_type": "markdown",
      "source": [
        "Answer Here"
      ],
      "metadata": {
        "id": "druuKYZpp1ck"
      }
    },
    {
      "cell_type": "markdown",
      "source": [
        "#### Chart - 12"
      ],
      "metadata": {
        "id": "n3dbpmDWp1ck"
      }
    },
    {
      "cell_type": "code",
      "source": [
        "# Chart - 12 visualization code"
      ],
      "metadata": {
        "id": "bwevp1tKp1ck"
      },
      "execution_count": null,
      "outputs": []
    },
    {
      "cell_type": "markdown",
      "source": [
        "##### 1. Why did you pick the specific chart?"
      ],
      "metadata": {
        "id": "ylSl6qgtp1ck"
      }
    },
    {
      "cell_type": "markdown",
      "source": [
        "Answer Here."
      ],
      "metadata": {
        "id": "m2xqNkiQp1ck"
      }
    },
    {
      "cell_type": "markdown",
      "source": [
        "##### 2. What is/are the insight(s) found from the chart?"
      ],
      "metadata": {
        "id": "ZWILFDl5p1ck"
      }
    },
    {
      "cell_type": "markdown",
      "source": [
        "Answer Here"
      ],
      "metadata": {
        "id": "x-lUsV2mp1ck"
      }
    },
    {
      "cell_type": "markdown",
      "source": [
        "##### 3. Will the gained insights help creating a positive business impact?\n",
        "Are there any insights that lead to negative growth? Justify with specific reason."
      ],
      "metadata": {
        "id": "M7G43BXep1ck"
      }
    },
    {
      "cell_type": "markdown",
      "source": [
        "Answer Here"
      ],
      "metadata": {
        "id": "5wwDJXsLp1cl"
      }
    },
    {
      "cell_type": "markdown",
      "source": [
        "#### Chart - 13"
      ],
      "metadata": {
        "id": "Ag9LCva-p1cl"
      }
    },
    {
      "cell_type": "code",
      "source": [
        "# Chart - 13 visualization code"
      ],
      "metadata": {
        "id": "EUfxeq9-p1cl"
      },
      "execution_count": null,
      "outputs": []
    },
    {
      "cell_type": "markdown",
      "source": [
        "##### 1. Why did you pick the specific chart?"
      ],
      "metadata": {
        "id": "E6MkPsBcp1cl"
      }
    },
    {
      "cell_type": "markdown",
      "source": [
        "Answer Here."
      ],
      "metadata": {
        "id": "V22bRsFWp1cl"
      }
    },
    {
      "cell_type": "markdown",
      "source": [
        "##### 2. What is/are the insight(s) found from the chart?"
      ],
      "metadata": {
        "id": "2cELzS2fp1cl"
      }
    },
    {
      "cell_type": "markdown",
      "source": [
        "Answer Here"
      ],
      "metadata": {
        "id": "ozQPc2_Ip1cl"
      }
    },
    {
      "cell_type": "markdown",
      "source": [
        "##### 3. Will the gained insights help creating a positive business impact?\n",
        "Are there any insights that lead to negative growth? Justify with specific reason."
      ],
      "metadata": {
        "id": "3MPXvC8up1cl"
      }
    },
    {
      "cell_type": "markdown",
      "source": [
        "Answer Here"
      ],
      "metadata": {
        "id": "GL8l1tdLp1cl"
      }
    },
    {
      "cell_type": "markdown",
      "source": [
        "#### Chart - 14 - Correlation Heatmap"
      ],
      "metadata": {
        "id": "NC_X3p0fY2L0"
      }
    },
    {
      "cell_type": "code",
      "source": [
        "# Correlation Heatmap visualization code"
      ],
      "metadata": {
        "id": "xyC9zolEZNRQ"
      },
      "execution_count": null,
      "outputs": []
    },
    {
      "cell_type": "markdown",
      "source": [
        "##### 1. Why did you pick the specific chart?"
      ],
      "metadata": {
        "id": "UV0SzAkaZNRQ"
      }
    },
    {
      "cell_type": "markdown",
      "source": [
        "Answer Here."
      ],
      "metadata": {
        "id": "DVPuT8LYZNRQ"
      }
    },
    {
      "cell_type": "markdown",
      "source": [
        "##### 2. What is/are the insight(s) found from the chart?"
      ],
      "metadata": {
        "id": "YPEH6qLeZNRQ"
      }
    },
    {
      "cell_type": "markdown",
      "source": [
        "Answer Here"
      ],
      "metadata": {
        "id": "bfSqtnDqZNRR"
      }
    },
    {
      "cell_type": "markdown",
      "source": [
        "#### Chart - 15 - Pair Plot"
      ],
      "metadata": {
        "id": "q29F0dvdveiT"
      }
    },
    {
      "cell_type": "code",
      "source": [
        "# Pair Plot visualization code"
      ],
      "metadata": {
        "id": "o58-TEIhveiU"
      },
      "execution_count": null,
      "outputs": []
    },
    {
      "cell_type": "markdown",
      "source": [
        "##### 1. Why did you pick the specific chart?"
      ],
      "metadata": {
        "id": "EXh0U9oCveiU"
      }
    },
    {
      "cell_type": "markdown",
      "source": [
        "Answer Here."
      ],
      "metadata": {
        "id": "eMmPjTByveiU"
      }
    },
    {
      "cell_type": "markdown",
      "source": [
        "##### 2. What is/are the insight(s) found from the chart?"
      ],
      "metadata": {
        "id": "22aHeOlLveiV"
      }
    },
    {
      "cell_type": "markdown",
      "source": [
        "Answer Here"
      ],
      "metadata": {
        "id": "uPQ8RGwHveiV"
      }
    },
    {
      "cell_type": "markdown",
      "source": [
        "## **5. Solution to Business Objective**"
      ],
      "metadata": {
        "id": "JcMwzZxoAimU"
      }
    },
    {
      "cell_type": "markdown",
      "source": [
        "#### What do you suggest the client to achieve Business Objective ?\n",
        "Explain Briefly."
      ],
      "metadata": {
        "id": "8G2x9gOozGDZ"
      }
    },
    {
      "cell_type": "markdown",
      "source": [
        "Answer Here."
      ],
      "metadata": {
        "id": "pASKb0qOza21"
      }
    },
    {
      "cell_type": "markdown",
      "source": [
        "# **Conclusion**"
      ],
      "metadata": {
        "id": "gCX9965dhzqZ"
      }
    },
    {
      "cell_type": "markdown",
      "source": [
        "Write the conclusion here."
      ],
      "metadata": {
        "id": "Fjb1IsQkh3yE"
      }
    },
    {
      "cell_type": "markdown",
      "source": [
        "### ***Hurrah! You have successfully completed your EDA Capstone Project !!!***"
      ],
      "metadata": {
        "id": "gIfDvo9L0UH2"
      }
    },
    {
      "cell_type": "markdown",
      "metadata": {
        "id": "f3fcfa99"
      },
      "source": [
        "#### Chart - 1 - Distribution of item types and their total duration"
      ]
    },
    {
      "cell_type": "code",
      "metadata": {
        "id": "0c00ff17"
      },
      "source": [
        "# Calculate the total duration for each item type\n",
        "item_duration = dataset.groupby('item')['duration'].sum().reset_index()\n",
        "\n",
        "# Create a bar plot\n",
        "plt.figure(figsize=(8, 6))\n",
        "sns.barplot(x='item', y='duration', data=item_duration)\n",
        "plt.title('Total Duration by Item Type')\n",
        "plt.xlabel('Item Type')\n",
        "plt.ylabel('Total Duration')\n",
        "plt.show()"
      ],
      "execution_count": null,
      "outputs": []
    },
    {
      "cell_type": "markdown",
      "metadata": {
        "id": "659fe03d"
      },
      "source": [
        "##### 1. Why did you pick the specific chart?\n",
        "I chose a bar chart because it is effective in comparing the total duration across different discrete categories (item types: call, sms, data).\n",
        "\n",
        "##### 2. What is/are the insight(s) found from the chart?\n",
        "This chart shows the total duration for each item type. We can observe which activity (call, sms, or data) has the highest total duration in the dataset.\n",
        "\n",
        "##### 3. Will the gained insights help creating a positive business impact?\n",
        "Are there any insights that lead to negative growth? Justify with specific reason.\n",
        "Understanding the distribution of activity duration can help in business decisions such as optimizing service plans, identifying peak usage patterns, or focusing marketing efforts on the most used services. For example, if data usage has a significantly higher duration, a business might focus on data-centric plans. There isn't a clear insight that directly leads to negative growth from this chart alone; rather, it provides information that can inform strategic decisions."
      ]
    },
    {
      "cell_type": "markdown",
      "metadata": {
        "id": "26827c87"
      },
      "source": [
        "#### Chart - 3 - Total duration by month"
      ]
    },
    {
      "cell_type": "code",
      "metadata": {
        "id": "6d12fff3"
      },
      "source": [
        "# Calculate the total duration for each month\n",
        "month_duration = dataset.groupby('month')['duration'].sum().reset_index()\n",
        "\n",
        "# Create a line plot to show trend over months\n",
        "plt.figure(figsize=(10, 6))\n",
        "sns.lineplot(x='month', y='duration', data=month_duration)\n",
        "plt.title('Total Duration by Month')\n",
        "plt.xlabel('Month')\n",
        "plt.ylabel('Total Duration')\n",
        "plt.xticks(rotation=45)\n",
        "plt.show()"
      ],
      "execution_count": null,
      "outputs": []
    },
    {
      "cell_type": "markdown",
      "metadata": {
        "id": "37873298"
      },
      "source": [
        "##### 1. Why did you pick the specific chart?\n",
        "A line plot is suitable for visualizing trends over a continuous variable like time (months).\n",
        "\n",
        "##### 2. What is/are the insight(s) found from the chart?\n",
        "This chart shows how the total duration of activities changes over the months captured in the dataset. We can observe if there are any periods of higher or lower usage.\n",
        "\n",
        "##### 3. Will the gained insights help creating a positive business impact?\n",
        "Are there any insights that lead to negative growth? Justify with specific reason.\n",
        "Analyzing monthly trends can help a business understand seasonality in usage and plan resources accordingly. For example, if there's a peak in usage during certain months, they might need to increase capacity or offer promotions. A decline in usage over months could indicate a need to investigate customer churn or changes in behavior."
      ]
    },
    {
      "cell_type": "markdown",
      "metadata": {
        "id": "92a61e52"
      },
      "source": [
        "#### Chart - 4 - Total duration by day of the week"
      ]
    },
    {
      "cell_type": "code",
      "metadata": {
        "id": "0fb14b25"
      },
      "source": [
        "# Calculate the total duration for each day of the week\n",
        "dayofweek_duration = dataset.groupby('day_of_week')['duration'].sum().reset_index()\n",
        "\n",
        "# Map day of the week numbers to names for better readability\n",
        "dayofweek_duration['day_of_week'] = dayofweek_duration['day_of_week'].map({0: 'Mon', 1: 'Tue', 2: 'Wed', 3: 'Thu', 4: 'Fri', 5: 'Sat', 6: 'Sun'})\n",
        "\n",
        "# Create a bar plot\n",
        "plt.figure(figsize=(8, 6))\n",
        "sns.barplot(x='day_of_week', y='duration', data=dayofweek_duration, order=['Mon', 'Tue', 'Wed', 'Thu', 'Fri', 'Sat', 'Sun'])\n",
        "plt.title('Total Duration by Day of the Week')\n",
        "plt.xlabel('Day of the Week')\n",
        "plt.ylabel('Total Duration')\n",
        "plt.show()"
      ],
      "execution_count": null,
      "outputs": []
    },
    {
      "cell_type": "markdown",
      "metadata": {
        "id": "de71c319"
      },
      "source": [
        "##### 1. Why did you pick the specific chart?\n",
        "A bar chart is suitable for comparing the total duration across the distinct categories of days of the week.\n",
        "\n",
        "##### 2. What is/are the insight(s) found from the chart?\n",
        "This chart shows how the total duration of activities varies across the days of the week. We can identify which days have the highest or lowest usage.\n",
        "\n",
        "##### 3. Will the gained insights help creating a positive business impact?\n",
        "Are there any insights that lead to negative growth? Justify with specific reason.\n",
        "Understanding daily usage patterns can help in resource allocation and marketing campaigns. For example, a business might offer promotions on days with lower usage to encourage activity or ensure sufficient capacity on peak days. There isn't a direct insight for negative growth from this chart, but a significant drop in usage on certain days could warrant further investigation into customer behavior or network performance."
      ]
    }
  ]
}